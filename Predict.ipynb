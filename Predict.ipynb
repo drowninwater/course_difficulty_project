{
 "cells": [
  {
   "cell_type": "code",
   "execution_count": 7,
   "metadata": {},
   "outputs": [
    {
     "name": "stderr",
     "output_type": "stream",
     "text": [
      "[nltk_data] Error loading punkt: <urlopen error [WinError 10054]\n",
      "[nltk_data]     远程主机强迫关闭了一个现有的连接。>\n",
      "[nltk_data] Error loading stopwords: <urlopen error [WinError 10054]\n",
      "[nltk_data]     远程主机强迫关闭了一个现有的连接。>\n",
      "[nltk_data] Error loading wordnet: <urlopen error [WinError 10054]\n",
      "[nltk_data]     远程主机强迫关闭了一个现有的连接。>\n",
      "[nltk_data] Error loading omw-1.4: <urlopen error [WinError 10054]\n",
      "[nltk_data]     远程主机强迫关闭了一个现有的连接。>\n"
     ]
    }
   ],
   "source": [
    "#import useful moduels\n",
    "import numpy as np                       ##Used for numerical computations \n",
    "import pandas as pd                      ##Used for reading the data\n",
    "import seaborn as sns                    #Used for plotting with more features\n",
    "import matplotlib.pyplot as plt          #Used for plotting \n",
    "from nltk.corpus import stopwords        ##This is used to plot the number of stopwords \n",
    "from nltk.tokenize import word_tokenize, sent_tokenize        ##This is used to divide the overall text data to tokens and sentences\n",
    "from sklearn.feature_extraction.text import CountVectorizer, TfidfVectorizer   ##Using the vectorizer to convert values\n",
    "import tqdm                        ##Used for measuring the time it takes to get the things done \n",
    "import re                           ##Standard library for reading and substituting the word expressions \n",
    "from sklearn.model_selection import train_test_split\n",
    "from sklearn.metrics import mean_squared_error, mean_absolute_error\n",
    "from tqdm import tqdm\n",
    "import nltk                                ##Used for the natural language processing tasks \n",
    "nltk.download('punkt')\n",
    "nltk.download('stopwords')\n",
    "nltk.download('wordnet')\n",
    "nltk.download('omw-1.4')\n",
    "import missingno as msno                      ## Used to plot the missing values that are present in our data\n",
    "from wordcloud import WordCloud               ##It is used to plot the frequency of the words which determines their size\n",
    "import plotly.express as px               ##This library is used for interactive visualization \n",
    "from plotly import graph_objects as go    ##We also have to use this along with plotly to get interactive visualization\n",
    "import warnings                       ##We are going to filer some warnings and remove them when we try to import the libraries\n",
    "warnings.filterwarnings(\"ignore\")"
   ]
  },
  {
   "cell_type": "code",
   "execution_count": 8,
   "metadata": {},
   "outputs": [
    {
     "data": {
      "text/html": [
       "<div>\n",
       "<style scoped>\n",
       "    .dataframe tbody tr th:only-of-type {\n",
       "        vertical-align: middle;\n",
       "    }\n",
       "\n",
       "    .dataframe tbody tr th {\n",
       "        vertical-align: top;\n",
       "    }\n",
       "\n",
       "    .dataframe thead th {\n",
       "        text-align: right;\n",
       "    }\n",
       "</style>\n",
       "<table border=\"1\" class=\"dataframe\">\n",
       "  <thead>\n",
       "    <tr style=\"text-align: right;\">\n",
       "      <th></th>\n",
       "      <th>id</th>\n",
       "      <th>url_legal</th>\n",
       "      <th>excerpt</th>\n",
       "    </tr>\n",
       "  </thead>\n",
       "  <tbody>\n",
       "    <tr>\n",
       "      <th>0</th>\n",
       "      <td>1</td>\n",
       "      <td>https://docs.google.com/document/d/1rt1D0xDDpJ...</td>\n",
       "      <td>That is what the vendor been called the new wo...</td>\n",
       "    </tr>\n",
       "  </tbody>\n",
       "</table>\n",
       "</div>"
      ],
      "text/plain": [
       "   id                                          url_legal  \\\n",
       "0   1  https://docs.google.com/document/d/1rt1D0xDDpJ...   \n",
       "\n",
       "                                             excerpt  \n",
       "0  That is what the vendor been called the new wo...  "
      ]
     },
     "execution_count": 8,
     "metadata": {},
     "output_type": "execute_result"
    }
   ],
   "source": [
    "#load data\n",
    "TRAIN_PATH = 'data/'\n",
    "TEST_PATH = 'data/'\n",
    "df_train = pd.read_csv(TRAIN_PATH + 'train.csv', low_memory = False)\n",
    "df_test = pd.read_csv(TEST_PATH + 'test.csv', low_memory = False)\n",
    "df_sample = pd.read_csv(TEST_PATH + 'sample_submission.csv', low_memory = False)\n",
    "\n",
    "df_test.head()"
   ]
  },
  {
   "cell_type": "code",
   "execution_count": 9,
   "metadata": {},
   "outputs": [
    {
     "data": {
      "text/plain": [
       "'All through dinner time, Mrs. Fayre was somewhat silent, her eyes resting on Dolly with a wistful, uncertain expression. She wanted to give the child the pleasure she craved, but she had hard work to bring herself to the point of overcoming her own objections.\\r\\nAt last, however, when the meal was nearly over, she smiled at her little daughter, and said, \"All right, Dolly, you may go.\"\\r\\n\"Oh, mother!\" Dolly cried, overwhelmed with sudden delight. \"Really?\\r\\nOh, I am so glad! Are you sure you\\'re willing?\"\\r\\n\"I\\'ve persuaded myself to be willing, against my will,\" returned Mrs. Fayre, whimsically. \"I confess I just hate to have you go, but I can\\'t bear to deprive you of the pleasure trip. And, as you say, it would also keep Dotty at home, and so, altogether, I think I shall have to give in.\"\\r\\n\"Oh, you angel mother! You blessed lady! How good you are!\" And Dolly flew around the table and gave her mother a hug that nearly suffocated her.'"
      ]
     },
     "execution_count": 9,
     "metadata": {},
     "output_type": "execute_result"
    }
   ],
   "source": [
    "df_train['excerpt'].iloc[1]"
   ]
  },
  {
   "cell_type": "code",
   "execution_count": 10,
   "metadata": {},
   "outputs": [
    {
     "data": {
      "text/plain": [
       "'All through dinner time, Mrs. Fayre was somewhat silent, her eyes resting on Dolly with a wistful, uncertain expression. She wanted to give the child the pleasure she craved, but she had hard work to bring herself to the point of overcoming her own objections.\\r At last, however, when the meal was nearly over, she smiled at her little daughter, and said, \"All right, Dolly, you may go.\"\\r \"Oh, mother!\" Dolly cried, overwhelmed with sudden delight. \"Really?\\r Oh, I am so glad! Are you sure you\\'re willing?\"\\r \"I\\'ve persuaded myself to be willing, against my will,\" returned Mrs. Fayre, whimsically. \"I confess I just hate to have you go, but I can\\'t bear to deprive you of the pleasure trip. And, as you say, it would also keep Dotty at home, and so, altogether, I think I shall have to give in.\"\\r \"Oh, you angel mother! You blessed lady! How good you are!\" And Dolly flew around the table and gave her mother a hug that nearly suffocated her.'"
      ]
     },
     "execution_count": 10,
     "metadata": {},
     "output_type": "execute_result"
    }
   ],
   "source": [
    "df_train['excerpt'].apply(lambda text: text.replace('\\n', ' ')).iloc[1]\n",
    "df_train['excerpt'] = df_train['excerpt'].apply(lambda text: text.replace('\\n', ' '))\n",
    "df_test['excerpt'] = df_test['excerpt'].apply(lambda text: text.replace('\\n', ' '))\n",
    "df_train['excerpt'].iloc[1]"
   ]
  },
  {
   "cell_type": "code",
   "execution_count": 11,
   "metadata": {},
   "outputs": [],
   "source": [
    "#preprocess function\n",
    "def preprocessing_function(df):\n",
    "    \"\"\"\n",
    "    This function takes into consideration the dataframe and extracts the text.\n",
    "    In addition, it makes modifications to the text and converts it to a simpler form\n",
    "    for machine learning processing respectively.\"\"\"\n",
    "    \n",
    "    text_list = []\n",
    "    for text in tqdm(df['excerpt'].values):\n",
    "        text = re.sub('[^a-zA-Z]', ' ', text)\n",
    "        text = text.lower()\n",
    "        text = nltk.word_tokenize(text)\n",
    "        [word for word in text if not word in set(stopwords.words(\"english\"))]\n",
    "        lemmatizer = nltk.WordNetLemmatizer()\n",
    "        text = [lemmatizer.lemmatize(word) for word in text]\n",
    "        text = \" \".join(text)\n",
    "        text_list.append(text)\n",
    "    text_list = pd.Series(text_list)\n",
    "    text_list.column = ['Converted_text']\n",
    "    return text_list"
   ]
  },
  {
   "cell_type": "code",
   "execution_count": 12,
   "metadata": {},
   "outputs": [
    {
     "name": "stderr",
     "output_type": "stream",
     "text": [
      "100%|██████████| 2834/2834 [02:43<00:00, 17.28it/s]\n"
     ]
    }
   ],
   "source": [
    "preprocessed_text = preprocessing_function(df_train)"
   ]
  },
  {
   "cell_type": "code",
   "execution_count": 13,
   "metadata": {},
   "outputs": [
    {
     "name": "stderr",
     "output_type": "stream",
     "text": [
      "100%|██████████| 1/1 [00:00<00:00,  7.08it/s]\n"
     ]
    }
   ],
   "source": [
    "preprocessed_text_test = preprocessing_function(df_test)"
   ]
  },
  {
   "cell_type": "code",
   "execution_count": 14,
   "metadata": {},
   "outputs": [],
   "source": [
    "# define useful features\n",
    "def get_useful_features(df, stop_words):\n",
    "    \"\"\"\n",
    "    The function would take the dataframe and stopwords and then, convert the excerpts into different features\n",
    "    such as the number of sentences, words and the lenght of the lemmas created along with the overall preprocessed\n",
    "    essay length.\"\"\"\n",
    "    sentences = []\n",
    "    num_of_words = []\n",
    "    sent_length = []\n",
    "    word_length = []\n",
    "    lemma_length = []\n",
    "    num_of_lemmas = []\n",
    "    preprocessed_essay_length = []\n",
    "    initial_text_length = []\n",
    "    num_of_sentences = []\n",
    "    text_shortage = []\n",
    "    \n",
    "    for text in tqdm(df['excerpt'].values):\n",
    "        \n",
    "        initial_length = len(text)\n",
    "        initial_text_length.append(initial_length)\n",
    "        num_sentences = len(sent_tokenize(text))\n",
    "        num_of_sentences.append(num_sentences)\n",
    "        text = re.sub('[^a-zA-Z]', ' ', text)\n",
    "        text = text.lower()\n",
    "        text = word_tokenize(text)\n",
    "        num_words = len(text) \n",
    "        num_of_words.append(num_words)\n",
    "        sent_length.append(num_words/num_sentences)\n",
    "        word_length.append(initial_length/num_words)\n",
    "        text = [word for word in text if not word in stop_words]\n",
    "        lemmatizer = nltk.WordNetLemmatizer()\n",
    "        text = [lemmatizer.lemmatize(word) for word in text]\n",
    "        #print(text)\n",
    "        num_lemmas = len(text)\n",
    "        num_of_lemmas.append(num_lemmas)\n",
    "        text = \" \".join(text)\n",
    "        #print(text)\n",
    "        preprocessed_essay_length_value = len(text)\n",
    "        preprocessed_essay_length.append(preprocessed_essay_length_value)\n",
    "        #print(preprocessed_essay_length)\n",
    "        #print(num_lemmas)\n",
    "        lemma_length.append(preprocessed_essay_length_value/num_lemmas)\n",
    "        \n",
    "        text_shortage.append(preprocessed_essay_length_value/initial_length)\n",
    "        \n",
    "    final_df = pd.concat([pd.Series(sent_length), pd.Series(num_of_words),\n",
    "                             pd.Series(word_length), pd.Series(lemma_length),\n",
    "                             pd.Series(num_of_sentences), pd.Series(initial_text_length),\n",
    "                             pd.Series(num_of_lemmas), pd.Series(preprocessed_essay_length),\n",
    "                             pd.Series(text_shortage)], axis = 1)\n",
    "    final_df.columns = [\"sentence_length\", \"num_of_words\", \"word_length\",\n",
    "                           \"lemma_length\", \"num_of_sentences\",\n",
    "                           \"initial_text_length\", \"num_of_lemmas\",\n",
    "                           \"preprocessed_essay_length\", \"text_shortage\"]\n",
    "    \n",
    "    return final_df\n",
    "        "
   ]
  },
  {
   "cell_type": "code",
   "execution_count": 15,
   "metadata": {},
   "outputs": [
    {
     "name": "stderr",
     "output_type": "stream",
     "text": [
      "100%|██████████| 2834/2834 [00:03<00:00, 792.66it/s]\n"
     ]
    }
   ],
   "source": [
    "final_df = get_useful_features(df_train, stop_words = set(stopwords.words(\"english\")))"
   ]
  },
  {
   "cell_type": "code",
   "execution_count": 16,
   "metadata": {},
   "outputs": [
    {
     "name": "stderr",
     "output_type": "stream",
     "text": [
      "100%|██████████| 1/1 [00:00<00:00, 499.38it/s]\n"
     ]
    }
   ],
   "source": [
    "final_df_test = get_useful_features(df_test, stop_words = set(stopwords.words(\"english\")))"
   ]
  },
  {
   "cell_type": "code",
   "execution_count": 17,
   "metadata": {},
   "outputs": [
    {
     "data": {
      "text/html": [
       "<div>\n",
       "<style scoped>\n",
       "    .dataframe tbody tr th:only-of-type {\n",
       "        vertical-align: middle;\n",
       "    }\n",
       "\n",
       "    .dataframe tbody tr th {\n",
       "        vertical-align: top;\n",
       "    }\n",
       "\n",
       "    .dataframe thead th {\n",
       "        text-align: right;\n",
       "    }\n",
       "</style>\n",
       "<table border=\"1\" class=\"dataframe\">\n",
       "  <thead>\n",
       "    <tr style=\"text-align: right;\">\n",
       "      <th></th>\n",
       "      <th>sentence_length</th>\n",
       "      <th>num_of_words</th>\n",
       "      <th>word_length</th>\n",
       "      <th>lemma_length</th>\n",
       "      <th>num_of_sentences</th>\n",
       "      <th>initial_text_length</th>\n",
       "      <th>num_of_lemmas</th>\n",
       "      <th>preprocessed_essay_length</th>\n",
       "      <th>text_shortage</th>\n",
       "    </tr>\n",
       "  </thead>\n",
       "  <tbody>\n",
       "    <tr>\n",
       "      <th>0</th>\n",
       "      <td>16.454545</td>\n",
       "      <td>181</td>\n",
       "      <td>5.508287</td>\n",
       "      <td>6.494505</td>\n",
       "      <td>11</td>\n",
       "      <td>997</td>\n",
       "      <td>91</td>\n",
       "      <td>591</td>\n",
       "      <td>0.592778</td>\n",
       "    </tr>\n",
       "    <tr>\n",
       "      <th>1</th>\n",
       "      <td>11.466667</td>\n",
       "      <td>172</td>\n",
       "      <td>5.476744</td>\n",
       "      <td>6.482353</td>\n",
       "      <td>15</td>\n",
       "      <td>942</td>\n",
       "      <td>85</td>\n",
       "      <td>551</td>\n",
       "      <td>0.584926</td>\n",
       "    </tr>\n",
       "    <tr>\n",
       "      <th>2</th>\n",
       "      <td>15.636364</td>\n",
       "      <td>172</td>\n",
       "      <td>5.302326</td>\n",
       "      <td>6.273810</td>\n",
       "      <td>11</td>\n",
       "      <td>912</td>\n",
       "      <td>84</td>\n",
       "      <td>527</td>\n",
       "      <td>0.577851</td>\n",
       "    </tr>\n",
       "    <tr>\n",
       "      <th>3</th>\n",
       "      <td>33.400000</td>\n",
       "      <td>167</td>\n",
       "      <td>5.449102</td>\n",
       "      <td>6.095745</td>\n",
       "      <td>5</td>\n",
       "      <td>910</td>\n",
       "      <td>94</td>\n",
       "      <td>573</td>\n",
       "      <td>0.629670</td>\n",
       "    </tr>\n",
       "    <tr>\n",
       "      <th>4</th>\n",
       "      <td>30.200000</td>\n",
       "      <td>151</td>\n",
       "      <td>4.788079</td>\n",
       "      <td>5.581081</td>\n",
       "      <td>5</td>\n",
       "      <td>723</td>\n",
       "      <td>74</td>\n",
       "      <td>413</td>\n",
       "      <td>0.571231</td>\n",
       "    </tr>\n",
       "  </tbody>\n",
       "</table>\n",
       "</div>"
      ],
      "text/plain": [
       "   sentence_length  num_of_words  word_length  lemma_length  num_of_sentences  \\\n",
       "0        16.454545           181     5.508287      6.494505                11   \n",
       "1        11.466667           172     5.476744      6.482353                15   \n",
       "2        15.636364           172     5.302326      6.273810                11   \n",
       "3        33.400000           167     5.449102      6.095745                 5   \n",
       "4        30.200000           151     4.788079      5.581081                 5   \n",
       "\n",
       "   initial_text_length  num_of_lemmas  preprocessed_essay_length  \\\n",
       "0                  997             91                        591   \n",
       "1                  942             85                        551   \n",
       "2                  912             84                        527   \n",
       "3                  910             94                        573   \n",
       "4                  723             74                        413   \n",
       "\n",
       "   text_shortage  \n",
       "0       0.592778  \n",
       "1       0.584926  \n",
       "2       0.577851  \n",
       "3       0.629670  \n",
       "4       0.571231  "
      ]
     },
     "execution_count": 17,
     "metadata": {},
     "output_type": "execute_result"
    }
   ],
   "source": [
    "final_df.head()"
   ]
  },
  {
   "cell_type": "code",
   "execution_count": 19,
   "metadata": {},
   "outputs": [],
   "source": [
    "def generate_more_features(df: pd.DataFrame):\n",
    "    \"\"\"\n",
    "    This function would create a dataframe of different useful features\n",
    "    that are important for machine learning predictions respectively.\n",
    "    \"\"\"\n",
    "    commas = []\n",
    "    semicolon = []\n",
    "    exclamations = []\n",
    "    questions = []\n",
    "    quotes = []\n",
    "    periods = []\n",
    "    longest_word = []\n",
    "    \n",
    "    for i in range(len(df)):\n",
    "        \n",
    "        #word_len = []\n",
    "        text = df['excerpt'].iloc[i]\n",
    "        commas.append(text.count(\",\"))\n",
    "        semicolon.append(text.count(\";\"))\n",
    "        exclamations.append(text.count(\"!\"))\n",
    "        questions.append(text.count(\"?\"))\n",
    "        quotes.append(text.count('\"'))\n",
    "        periods.append(text.count('.'))\n",
    "        word_len = [len(w) for w in text.split(\" \")]\n",
    "        longest_word.append(np.max(word_len))\n",
    "        \n",
    "    df_with_features =pd.concat((pd.Series(commas), pd.Series(semicolon), pd.Series(exclamations),\n",
    "                               pd.Series(questions), pd.Series(quotes), pd.Series(periods),\n",
    "                                pd.Series(longest_word)), axis = 1)\n",
    "    df_with_features.columns = [\"num_of_commas\", \"num_of_semicolons\", \"num_of_explamations\",\n",
    "                                \"num_of_questions\", \"num_of_quotes\", \"num_of_periods\", \n",
    "                                \"longest_word\"]\n",
    "                                \n",
    "    return df_with_features"
   ]
  },
  {
   "cell_type": "code",
   "execution_count": 20,
   "metadata": {},
   "outputs": [],
   "source": [
    "df_with_more_features = generate_more_features(df_train)"
   ]
  },
  {
   "cell_type": "code",
   "execution_count": 21,
   "metadata": {},
   "outputs": [],
   "source": [
    "df_with_more_features_test = generate_more_features(df_test)"
   ]
  },
  {
   "cell_type": "code",
   "execution_count": 22,
   "metadata": {},
   "outputs": [
    {
     "data": {
      "text/html": [
       "<div>\n",
       "<style scoped>\n",
       "    .dataframe tbody tr th:only-of-type {\n",
       "        vertical-align: middle;\n",
       "    }\n",
       "\n",
       "    .dataframe tbody tr th {\n",
       "        vertical-align: top;\n",
       "    }\n",
       "\n",
       "    .dataframe thead th {\n",
       "        text-align: right;\n",
       "    }\n",
       "</style>\n",
       "<table border=\"1\" class=\"dataframe\">\n",
       "  <thead>\n",
       "    <tr style=\"text-align: right;\">\n",
       "      <th></th>\n",
       "      <th>num_of_commas</th>\n",
       "      <th>num_of_semicolons</th>\n",
       "      <th>num_of_explamations</th>\n",
       "      <th>num_of_questions</th>\n",
       "      <th>num_of_quotes</th>\n",
       "      <th>num_of_periods</th>\n",
       "      <th>longest_word</th>\n",
       "    </tr>\n",
       "  </thead>\n",
       "  <tbody>\n",
       "    <tr>\n",
       "      <th>0</th>\n",
       "      <td>14</td>\n",
       "      <td>0</td>\n",
       "      <td>0</td>\n",
       "      <td>0</td>\n",
       "      <td>0</td>\n",
       "      <td>11</td>\n",
       "      <td>11</td>\n",
       "    </tr>\n",
       "    <tr>\n",
       "      <th>1</th>\n",
       "      <td>24</td>\n",
       "      <td>0</td>\n",
       "      <td>5</td>\n",
       "      <td>2</td>\n",
       "      <td>12</td>\n",
       "      <td>10</td>\n",
       "      <td>12</td>\n",
       "    </tr>\n",
       "    <tr>\n",
       "      <th>2</th>\n",
       "      <td>17</td>\n",
       "      <td>2</td>\n",
       "      <td>1</td>\n",
       "      <td>0</td>\n",
       "      <td>10</td>\n",
       "      <td>11</td>\n",
       "      <td>14</td>\n",
       "    </tr>\n",
       "    <tr>\n",
       "      <th>3</th>\n",
       "      <td>23</td>\n",
       "      <td>2</td>\n",
       "      <td>0</td>\n",
       "      <td>0</td>\n",
       "      <td>0</td>\n",
       "      <td>5</td>\n",
       "      <td>13</td>\n",
       "    </tr>\n",
       "    <tr>\n",
       "      <th>4</th>\n",
       "      <td>13</td>\n",
       "      <td>10</td>\n",
       "      <td>0</td>\n",
       "      <td>0</td>\n",
       "      <td>0</td>\n",
       "      <td>5</td>\n",
       "      <td>12</td>\n",
       "    </tr>\n",
       "  </tbody>\n",
       "</table>\n",
       "</div>"
      ],
      "text/plain": [
       "   num_of_commas  num_of_semicolons  num_of_explamations  num_of_questions  \\\n",
       "0             14                  0                    0                 0   \n",
       "1             24                  0                    5                 2   \n",
       "2             17                  2                    1                 0   \n",
       "3             23                  2                    0                 0   \n",
       "4             13                 10                    0                 0   \n",
       "\n",
       "   num_of_quotes  num_of_periods  longest_word  \n",
       "0              0              11            11  \n",
       "1             12              10            12  \n",
       "2             10              11            14  \n",
       "3              0               5            13  \n",
       "4              0               5            12  "
      ]
     },
     "execution_count": 22,
     "metadata": {},
     "output_type": "execute_result"
    }
   ],
   "source": [
    "df_with_more_features.head()"
   ]
  },
  {
   "cell_type": "code",
   "execution_count": 23,
   "metadata": {},
   "outputs": [
    {
     "data": {
      "text/plain": [
       "True"
      ]
     },
     "execution_count": 23,
     "metadata": {},
     "output_type": "execute_result"
    }
   ],
   "source": [
    "any(df_with_more_features.isnull())"
   ]
  },
  {
   "cell_type": "code",
   "execution_count": 24,
   "metadata": {},
   "outputs": [
    {
     "data": {
      "text/html": [
       "<div>\n",
       "<style scoped>\n",
       "    .dataframe tbody tr th:only-of-type {\n",
       "        vertical-align: middle;\n",
       "    }\n",
       "\n",
       "    .dataframe tbody tr th {\n",
       "        vertical-align: top;\n",
       "    }\n",
       "\n",
       "    .dataframe thead th {\n",
       "        text-align: right;\n",
       "    }\n",
       "</style>\n",
       "<table border=\"1\" class=\"dataframe\">\n",
       "  <thead>\n",
       "    <tr style=\"text-align: right;\">\n",
       "      <th></th>\n",
       "      <th>num_of_commas</th>\n",
       "      <th>num_of_semicolons</th>\n",
       "      <th>num_of_explamations</th>\n",
       "      <th>num_of_questions</th>\n",
       "      <th>num_of_quotes</th>\n",
       "      <th>num_of_periods</th>\n",
       "      <th>longest_word</th>\n",
       "    </tr>\n",
       "  </thead>\n",
       "  <tbody>\n",
       "    <tr>\n",
       "      <th>0</th>\n",
       "      <td>False</td>\n",
       "      <td>False</td>\n",
       "      <td>False</td>\n",
       "      <td>False</td>\n",
       "      <td>False</td>\n",
       "      <td>False</td>\n",
       "      <td>False</td>\n",
       "    </tr>\n",
       "    <tr>\n",
       "      <th>1</th>\n",
       "      <td>False</td>\n",
       "      <td>False</td>\n",
       "      <td>False</td>\n",
       "      <td>False</td>\n",
       "      <td>False</td>\n",
       "      <td>False</td>\n",
       "      <td>False</td>\n",
       "    </tr>\n",
       "    <tr>\n",
       "      <th>2</th>\n",
       "      <td>False</td>\n",
       "      <td>False</td>\n",
       "      <td>False</td>\n",
       "      <td>False</td>\n",
       "      <td>False</td>\n",
       "      <td>False</td>\n",
       "      <td>False</td>\n",
       "    </tr>\n",
       "    <tr>\n",
       "      <th>3</th>\n",
       "      <td>False</td>\n",
       "      <td>False</td>\n",
       "      <td>False</td>\n",
       "      <td>False</td>\n",
       "      <td>False</td>\n",
       "      <td>False</td>\n",
       "      <td>False</td>\n",
       "    </tr>\n",
       "    <tr>\n",
       "      <th>4</th>\n",
       "      <td>False</td>\n",
       "      <td>False</td>\n",
       "      <td>False</td>\n",
       "      <td>False</td>\n",
       "      <td>False</td>\n",
       "      <td>False</td>\n",
       "      <td>False</td>\n",
       "    </tr>\n",
       "    <tr>\n",
       "      <th>...</th>\n",
       "      <td>...</td>\n",
       "      <td>...</td>\n",
       "      <td>...</td>\n",
       "      <td>...</td>\n",
       "      <td>...</td>\n",
       "      <td>...</td>\n",
       "      <td>...</td>\n",
       "    </tr>\n",
       "    <tr>\n",
       "      <th>2829</th>\n",
       "      <td>False</td>\n",
       "      <td>False</td>\n",
       "      <td>False</td>\n",
       "      <td>False</td>\n",
       "      <td>False</td>\n",
       "      <td>False</td>\n",
       "      <td>False</td>\n",
       "    </tr>\n",
       "    <tr>\n",
       "      <th>2830</th>\n",
       "      <td>False</td>\n",
       "      <td>False</td>\n",
       "      <td>False</td>\n",
       "      <td>False</td>\n",
       "      <td>False</td>\n",
       "      <td>False</td>\n",
       "      <td>False</td>\n",
       "    </tr>\n",
       "    <tr>\n",
       "      <th>2831</th>\n",
       "      <td>False</td>\n",
       "      <td>False</td>\n",
       "      <td>False</td>\n",
       "      <td>False</td>\n",
       "      <td>False</td>\n",
       "      <td>False</td>\n",
       "      <td>False</td>\n",
       "    </tr>\n",
       "    <tr>\n",
       "      <th>2832</th>\n",
       "      <td>False</td>\n",
       "      <td>False</td>\n",
       "      <td>False</td>\n",
       "      <td>False</td>\n",
       "      <td>False</td>\n",
       "      <td>False</td>\n",
       "      <td>False</td>\n",
       "    </tr>\n",
       "    <tr>\n",
       "      <th>2833</th>\n",
       "      <td>False</td>\n",
       "      <td>False</td>\n",
       "      <td>False</td>\n",
       "      <td>False</td>\n",
       "      <td>False</td>\n",
       "      <td>False</td>\n",
       "      <td>False</td>\n",
       "    </tr>\n",
       "  </tbody>\n",
       "</table>\n",
       "<p>2834 rows × 7 columns</p>\n",
       "</div>"
      ],
      "text/plain": [
       "      num_of_commas  num_of_semicolons  num_of_explamations  num_of_questions  \\\n",
       "0             False              False                False             False   \n",
       "1             False              False                False             False   \n",
       "2             False              False                False             False   \n",
       "3             False              False                False             False   \n",
       "4             False              False                False             False   \n",
       "...             ...                ...                  ...               ...   \n",
       "2829          False              False                False             False   \n",
       "2830          False              False                False             False   \n",
       "2831          False              False                False             False   \n",
       "2832          False              False                False             False   \n",
       "2833          False              False                False             False   \n",
       "\n",
       "      num_of_quotes  num_of_periods  longest_word  \n",
       "0             False           False         False  \n",
       "1             False           False         False  \n",
       "2             False           False         False  \n",
       "3             False           False         False  \n",
       "4             False           False         False  \n",
       "...             ...             ...           ...  \n",
       "2829          False           False         False  \n",
       "2830          False           False         False  \n",
       "2831          False           False         False  \n",
       "2832          False           False         False  \n",
       "2833          False           False         False  \n",
       "\n",
       "[2834 rows x 7 columns]"
      ]
     },
     "execution_count": 24,
     "metadata": {},
     "output_type": "execute_result"
    }
   ],
   "source": [
    "df_with_more_features.isnull()"
   ]
  },
  {
   "cell_type": "code",
   "execution_count": 25,
   "metadata": {},
   "outputs": [
    {
     "name": "stdout",
     "output_type": "stream",
     "text": [
      "<class 'pandas.core.frame.DataFrame'>\n",
      "RangeIndex: 2834 entries, 0 to 2833\n",
      "Data columns (total 7 columns):\n",
      " #   Column               Non-Null Count  Dtype\n",
      "---  ------               --------------  -----\n",
      " 0   num_of_commas        2834 non-null   int64\n",
      " 1   num_of_semicolons    2834 non-null   int64\n",
      " 2   num_of_explamations  2834 non-null   int64\n",
      " 3   num_of_questions     2834 non-null   int64\n",
      " 4   num_of_quotes        2834 non-null   int64\n",
      " 5   num_of_periods       2834 non-null   int64\n",
      " 6   longest_word         2834 non-null   int32\n",
      "dtypes: int32(1), int64(6)\n",
      "memory usage: 144.0 KB\n"
     ]
    }
   ],
   "source": [
    "df_with_more_features.info()"
   ]
  },
  {
   "cell_type": "code",
   "execution_count": 26,
   "metadata": {},
   "outputs": [
    {
     "data": {
      "text/html": [
       "<div>\n",
       "<style scoped>\n",
       "    .dataframe tbody tr th:only-of-type {\n",
       "        vertical-align: middle;\n",
       "    }\n",
       "\n",
       "    .dataframe tbody tr th {\n",
       "        vertical-align: top;\n",
       "    }\n",
       "\n",
       "    .dataframe thead th {\n",
       "        text-align: right;\n",
       "    }\n",
       "</style>\n",
       "<table border=\"1\" class=\"dataframe\">\n",
       "  <thead>\n",
       "    <tr style=\"text-align: right;\">\n",
       "      <th></th>\n",
       "      <th>num_of_commas</th>\n",
       "      <th>num_of_semicolons</th>\n",
       "      <th>num_of_explamations</th>\n",
       "      <th>num_of_questions</th>\n",
       "      <th>num_of_quotes</th>\n",
       "      <th>num_of_periods</th>\n",
       "      <th>longest_word</th>\n",
       "    </tr>\n",
       "  </thead>\n",
       "  <tbody>\n",
       "    <tr>\n",
       "      <th>0</th>\n",
       "      <td>14</td>\n",
       "      <td>0</td>\n",
       "      <td>0</td>\n",
       "      <td>0</td>\n",
       "      <td>0</td>\n",
       "      <td>11</td>\n",
       "      <td>11</td>\n",
       "    </tr>\n",
       "    <tr>\n",
       "      <th>1</th>\n",
       "      <td>24</td>\n",
       "      <td>0</td>\n",
       "      <td>5</td>\n",
       "      <td>2</td>\n",
       "      <td>12</td>\n",
       "      <td>10</td>\n",
       "      <td>12</td>\n",
       "    </tr>\n",
       "    <tr>\n",
       "      <th>2</th>\n",
       "      <td>17</td>\n",
       "      <td>2</td>\n",
       "      <td>1</td>\n",
       "      <td>0</td>\n",
       "      <td>10</td>\n",
       "      <td>11</td>\n",
       "      <td>14</td>\n",
       "    </tr>\n",
       "    <tr>\n",
       "      <th>3</th>\n",
       "      <td>23</td>\n",
       "      <td>2</td>\n",
       "      <td>0</td>\n",
       "      <td>0</td>\n",
       "      <td>0</td>\n",
       "      <td>5</td>\n",
       "      <td>13</td>\n",
       "    </tr>\n",
       "    <tr>\n",
       "      <th>4</th>\n",
       "      <td>13</td>\n",
       "      <td>10</td>\n",
       "      <td>0</td>\n",
       "      <td>0</td>\n",
       "      <td>0</td>\n",
       "      <td>5</td>\n",
       "      <td>12</td>\n",
       "    </tr>\n",
       "  </tbody>\n",
       "</table>\n",
       "</div>"
      ],
      "text/plain": [
       "   num_of_commas  num_of_semicolons  num_of_explamations  num_of_questions  \\\n",
       "0             14                  0                    0                 0   \n",
       "1             24                  0                    5                 2   \n",
       "2             17                  2                    1                 0   \n",
       "3             23                  2                    0                 0   \n",
       "4             13                 10                    0                 0   \n",
       "\n",
       "   num_of_quotes  num_of_periods  longest_word  \n",
       "0              0              11            11  \n",
       "1             12              10            12  \n",
       "2             10              11            14  \n",
       "3              0               5            13  \n",
       "4              0               5            12  "
      ]
     },
     "execution_count": 26,
     "metadata": {},
     "output_type": "execute_result"
    }
   ],
   "source": [
    "df_with_more_features.head()"
   ]
  },
  {
   "cell_type": "code",
   "execution_count": 27,
   "metadata": {},
   "outputs": [
    {
     "data": {
      "text/plain": [
       "'Little Sara Crewe never went in or out of the house without reading that door plate and reflecting upon it. By the time she was twelve, she had decided that all her trouble arose because, in the first place, she was not \"Select,\" and in the second she was not a \"Young Lady.\" When she was eight years old, she had been brought to Miss Minchin as a pupil, and left with her. Her papa had brought her all the way from India. Her mamma had died when she was a baby, and her papa had kept her with him as long as he could. And then, finding the hot climate was making her very delicate, he had brought her to England and left her with Miss Minchin, to be part of the Select Seminary for Young Ladies. Sara, who had always been a sharp little child, who remembered things, recollected hearing him say that he had not a relative in the world whom he knew of, and so he was obliged to place her at a boarding-school, and he had heard Miss Minchin\\'s establishment spoken of very highly.'"
      ]
     },
     "execution_count": 27,
     "metadata": {},
     "output_type": "execute_result"
    }
   ],
   "source": [
    "df_train['excerpt'].iloc[140]"
   ]
  },
  {
   "cell_type": "code",
   "execution_count": 28,
   "metadata": {},
   "outputs": [
    {
     "data": {
      "text/plain": [
       "'\"You really wish me to understand, Brady, that not you alone, but all the elder boys—day-pupils and boarders alike—desire of your own free-will to devote your next Saturday\\'s half-holiday to conveying this poor man\\'s plants from his house at Brickland to the Rookwood sale?\"\\r \"Yes, sir, that\\'s what we want to do.\"\\r \"H\\'m! Well, the proposal does you credit, and you certainly might employ your time much worse than in carrying it out. I don\\'t think it would be right for me to refuse your request. Mr. Anderson, I feel sure, will be ready to help and advise you, if necessary, but as the idea is your own I should like you, as far as possible, to carry it out by yourselves.\"\\r \"Thank you, sir!\" said Jack, and withdrew.\\r It was evening when this dialogue took place. The day-boys had departed in an irritable frame of mind, on account of various annoyances of which they had been the victims during the past two days. Bacon had been tripped up twice by a piece of string, Hughes had found his coat-sleeves tightly sewn up with packing-thread, and Simmons\\'s pockets had been crammed with moist, wriggling earthworms.'"
      ]
     },
     "execution_count": 28,
     "metadata": {},
     "output_type": "execute_result"
    }
   ],
   "source": [
    "df_train['excerpt'].iloc[143]"
   ]
  },
  {
   "cell_type": "code",
   "execution_count": 29,
   "metadata": {},
   "outputs": [],
   "source": [
    "df_for_plotting = pd.concat([df_with_more_features, df_train['target']], axis = 1)"
   ]
  },
  {
   "cell_type": "code",
   "execution_count": 30,
   "metadata": {},
   "outputs": [],
   "source": [
    "def Count_Vectorizer(df: pd.DataFrame):\n",
    "    vectorizer = CountVectorizer()\n",
    "    vectorizer.fit(df['excerpt'])\n",
    "    converted_vector = vectorizer.transform(df['excerpt'])\n",
    "    return converted_vector"
   ]
  },
  {
   "cell_type": "code",
   "execution_count": 31,
   "metadata": {},
   "outputs": [
    {
     "data": {
      "text/plain": [
       "<2834x26833 sparse matrix of type '<class 'numpy.int64'>'\n",
       "\twith 294295 stored elements in Compressed Sparse Row format>"
      ]
     },
     "execution_count": 31,
     "metadata": {},
     "output_type": "execute_result"
    }
   ],
   "source": [
    "Count_Vectorizer(df_train)"
   ]
  },
  {
   "cell_type": "code",
   "execution_count": 32,
   "metadata": {},
   "outputs": [],
   "source": [
    "from nltk.corpus import stopwords"
   ]
  },
  {
   "cell_type": "code",
   "execution_count": 33,
   "metadata": {},
   "outputs": [],
   "source": [
    "# https://stackoverflow.com/a/47091490/4084039\n",
    "import re\n",
    "\n",
    "def decontracted(phrase):\n",
    "    \"\"\"\n",
    "    This function would convert some short letters into the forms that one \n",
    "    could easily understand respectively.\n",
    "    \"\"\"\n",
    "    # specific\n",
    "    phrase = re.sub(r\"won't\", \"will not\", phrase)\n",
    "    phrase = re.sub(r\"can\\'t\", \"can not\", phrase)\n",
    "\n",
    "    # general\n",
    "    phrase = re.sub(r\"n\\'t\", \" not\", phrase)\n",
    "    phrase = re.sub(r\"\\'re\", \" are\", phrase)\n",
    "    phrase = re.sub(r\"\\'s\", \" is\", phrase)\n",
    "    phrase = re.sub(r\"\\'d\", \" would\", phrase)\n",
    "    phrase = re.sub(r\"\\'ll\", \" will\", phrase)\n",
    "    phrase = re.sub(r\"\\'t\", \" not\", phrase)\n",
    "    phrase = re.sub(r\"\\'ve\", \" have\", phrase)\n",
    "    phrase = re.sub(r\"\\'m\", \" am\", phrase)\n",
    "    return phrase"
   ]
  },
  {
   "cell_type": "code",
   "execution_count": 23,
   "metadata": {},
   "outputs": [],
   "source": [
    "def preprocessing_function(df):\n",
    "    \"\"\"\n",
    "    In this function, we are going to be performing the basic preprocessing \n",
    "    which is needed before giving to different vectorizers. This ensures that\n",
    "    we are getting the best output values respectively.\n",
    "    \"\"\"\n",
    "    \n",
    "    stopwords_new = set(stopwords.words('english'))\n",
    "    text_list = []\n",
    "    for i in tqdm(range(len(df['excerpt']))):\n",
    "        text = df['excerpt'].iloc[i]\n",
    "        text = decontracted(text)\n",
    "        text = re.sub('[^a-zA-Z]', ' ', text)\n",
    "        text = text.lower()\n",
    "        text = [word for word in text.split(' ') if not word in stopwords_new]\n",
    "        lemmatizer = nltk.WordNetLemmatizer()\n",
    "        text = [lemmatizer.lemmatize(word) for word in text]\n",
    "        text_list.append(' '.join(text))\n",
    "    return text_list\n"
   ]
  },
  {
   "cell_type": "code",
   "execution_count": 34,
   "metadata": {},
   "outputs": [
    {
     "name": "stderr",
     "output_type": "stream",
     "text": [
      "100%|██████████| 2834/2834 [02:52<00:00, 16.47it/s]\n"
     ]
    }
   ],
   "source": [
    "df_train_preprocessed = preprocessing_function(df_train)"
   ]
  },
  {
   "cell_type": "code",
   "execution_count": 35,
   "metadata": {},
   "outputs": [
    {
     "name": "stderr",
     "output_type": "stream",
     "text": [
      "100%|██████████| 1/1 [00:00<00:00,  8.90it/s]\n"
     ]
    }
   ],
   "source": [
    "df_test_preprocessed = preprocessing_function(df_test)"
   ]
  },
  {
   "cell_type": "code",
   "execution_count": 36,
   "metadata": {},
   "outputs": [
    {
     "data": {
      "text/plain": [
       "0    when the young people returned to the ballroom...\n",
       "1    all through dinner time mr fayre wa somewhat s...\n",
       "2    a roger had predicted the snow departed a quic...\n",
       "3    and outside before the palace a great garden w...\n",
       "4    once upon a time there were three bear who liv...\n",
       "dtype: object"
      ]
     },
     "execution_count": 36,
     "metadata": {},
     "output_type": "execute_result"
    }
   ],
   "source": [
    "preprocessed_text.head()"
   ]
  },
  {
   "cell_type": "code",
   "execution_count": 37,
   "metadata": {},
   "outputs": [
    {
     "data": {
      "text/html": [
       "<div>\n",
       "<style scoped>\n",
       "    .dataframe tbody tr th:only-of-type {\n",
       "        vertical-align: middle;\n",
       "    }\n",
       "\n",
       "    .dataframe tbody tr th {\n",
       "        vertical-align: top;\n",
       "    }\n",
       "\n",
       "    .dataframe thead th {\n",
       "        text-align: right;\n",
       "    }\n",
       "</style>\n",
       "<table border=\"1\" class=\"dataframe\">\n",
       "  <thead>\n",
       "    <tr style=\"text-align: right;\">\n",
       "      <th></th>\n",
       "      <th>num_of_commas</th>\n",
       "      <th>num_of_semicolons</th>\n",
       "      <th>num_of_explamations</th>\n",
       "      <th>num_of_questions</th>\n",
       "      <th>num_of_quotes</th>\n",
       "      <th>num_of_periods</th>\n",
       "      <th>longest_word</th>\n",
       "    </tr>\n",
       "  </thead>\n",
       "  <tbody>\n",
       "    <tr>\n",
       "      <th>0</th>\n",
       "      <td>14</td>\n",
       "      <td>0</td>\n",
       "      <td>0</td>\n",
       "      <td>0</td>\n",
       "      <td>0</td>\n",
       "      <td>11</td>\n",
       "      <td>11</td>\n",
       "    </tr>\n",
       "    <tr>\n",
       "      <th>1</th>\n",
       "      <td>24</td>\n",
       "      <td>0</td>\n",
       "      <td>5</td>\n",
       "      <td>2</td>\n",
       "      <td>12</td>\n",
       "      <td>10</td>\n",
       "      <td>12</td>\n",
       "    </tr>\n",
       "    <tr>\n",
       "      <th>2</th>\n",
       "      <td>17</td>\n",
       "      <td>2</td>\n",
       "      <td>1</td>\n",
       "      <td>0</td>\n",
       "      <td>10</td>\n",
       "      <td>11</td>\n",
       "      <td>14</td>\n",
       "    </tr>\n",
       "    <tr>\n",
       "      <th>3</th>\n",
       "      <td>23</td>\n",
       "      <td>2</td>\n",
       "      <td>0</td>\n",
       "      <td>0</td>\n",
       "      <td>0</td>\n",
       "      <td>5</td>\n",
       "      <td>13</td>\n",
       "    </tr>\n",
       "    <tr>\n",
       "      <th>4</th>\n",
       "      <td>13</td>\n",
       "      <td>10</td>\n",
       "      <td>0</td>\n",
       "      <td>0</td>\n",
       "      <td>0</td>\n",
       "      <td>5</td>\n",
       "      <td>12</td>\n",
       "    </tr>\n",
       "  </tbody>\n",
       "</table>\n",
       "</div>"
      ],
      "text/plain": [
       "   num_of_commas  num_of_semicolons  num_of_explamations  num_of_questions  \\\n",
       "0             14                  0                    0                 0   \n",
       "1             24                  0                    5                 2   \n",
       "2             17                  2                    1                 0   \n",
       "3             23                  2                    0                 0   \n",
       "4             13                 10                    0                 0   \n",
       "\n",
       "   num_of_quotes  num_of_periods  longest_word  \n",
       "0              0              11            11  \n",
       "1             12              10            12  \n",
       "2             10              11            14  \n",
       "3              0               5            13  \n",
       "4              0               5            12  "
      ]
     },
     "execution_count": 37,
     "metadata": {},
     "output_type": "execute_result"
    }
   ],
   "source": [
    "df_with_more_features.head()"
   ]
  },
  {
   "cell_type": "code",
   "execution_count": 38,
   "metadata": {},
   "outputs": [
    {
     "data": {
      "text/html": [
       "<div>\n",
       "<style scoped>\n",
       "    .dataframe tbody tr th:only-of-type {\n",
       "        vertical-align: middle;\n",
       "    }\n",
       "\n",
       "    .dataframe tbody tr th {\n",
       "        vertical-align: top;\n",
       "    }\n",
       "\n",
       "    .dataframe thead th {\n",
       "        text-align: right;\n",
       "    }\n",
       "</style>\n",
       "<table border=\"1\" class=\"dataframe\">\n",
       "  <thead>\n",
       "    <tr style=\"text-align: right;\">\n",
       "      <th></th>\n",
       "      <th>num_of_commas</th>\n",
       "      <th>num_of_semicolons</th>\n",
       "      <th>num_of_explamations</th>\n",
       "      <th>num_of_questions</th>\n",
       "      <th>num_of_quotes</th>\n",
       "      <th>num_of_periods</th>\n",
       "      <th>longest_word</th>\n",
       "      <th>target</th>\n",
       "    </tr>\n",
       "  </thead>\n",
       "  <tbody>\n",
       "    <tr>\n",
       "      <th>0</th>\n",
       "      <td>14</td>\n",
       "      <td>0</td>\n",
       "      <td>0</td>\n",
       "      <td>0</td>\n",
       "      <td>0</td>\n",
       "      <td>11</td>\n",
       "      <td>11</td>\n",
       "      <td>-0.340259</td>\n",
       "    </tr>\n",
       "    <tr>\n",
       "      <th>1</th>\n",
       "      <td>24</td>\n",
       "      <td>0</td>\n",
       "      <td>5</td>\n",
       "      <td>2</td>\n",
       "      <td>12</td>\n",
       "      <td>10</td>\n",
       "      <td>12</td>\n",
       "      <td>-0.315372</td>\n",
       "    </tr>\n",
       "    <tr>\n",
       "      <th>2</th>\n",
       "      <td>17</td>\n",
       "      <td>2</td>\n",
       "      <td>1</td>\n",
       "      <td>0</td>\n",
       "      <td>10</td>\n",
       "      <td>11</td>\n",
       "      <td>14</td>\n",
       "      <td>-0.580118</td>\n",
       "    </tr>\n",
       "    <tr>\n",
       "      <th>3</th>\n",
       "      <td>23</td>\n",
       "      <td>2</td>\n",
       "      <td>0</td>\n",
       "      <td>0</td>\n",
       "      <td>0</td>\n",
       "      <td>5</td>\n",
       "      <td>13</td>\n",
       "      <td>-1.054013</td>\n",
       "    </tr>\n",
       "    <tr>\n",
       "      <th>4</th>\n",
       "      <td>13</td>\n",
       "      <td>10</td>\n",
       "      <td>0</td>\n",
       "      <td>0</td>\n",
       "      <td>0</td>\n",
       "      <td>5</td>\n",
       "      <td>12</td>\n",
       "      <td>0.247197</td>\n",
       "    </tr>\n",
       "  </tbody>\n",
       "</table>\n",
       "</div>"
      ],
      "text/plain": [
       "   num_of_commas  num_of_semicolons  num_of_explamations  num_of_questions  \\\n",
       "0             14                  0                    0                 0   \n",
       "1             24                  0                    5                 2   \n",
       "2             17                  2                    1                 0   \n",
       "3             23                  2                    0                 0   \n",
       "4             13                 10                    0                 0   \n",
       "\n",
       "   num_of_quotes  num_of_periods  longest_word    target  \n",
       "0              0              11            11 -0.340259  \n",
       "1             12              10            12 -0.315372  \n",
       "2             10              11            14 -0.580118  \n",
       "3              0               5            13 -1.054013  \n",
       "4              0               5            12  0.247197  "
      ]
     },
     "execution_count": 38,
     "metadata": {},
     "output_type": "execute_result"
    }
   ],
   "source": [
    "df_for_plotting.head()"
   ]
  },
  {
   "cell_type": "code",
   "execution_count": 39,
   "metadata": {},
   "outputs": [
    {
     "data": {
      "text/html": [
       "<div>\n",
       "<style scoped>\n",
       "    .dataframe tbody tr th:only-of-type {\n",
       "        vertical-align: middle;\n",
       "    }\n",
       "\n",
       "    .dataframe tbody tr th {\n",
       "        vertical-align: top;\n",
       "    }\n",
       "\n",
       "    .dataframe thead th {\n",
       "        text-align: right;\n",
       "    }\n",
       "</style>\n",
       "<table border=\"1\" class=\"dataframe\">\n",
       "  <thead>\n",
       "    <tr style=\"text-align: right;\">\n",
       "      <th></th>\n",
       "      <th>sentence_length</th>\n",
       "      <th>num_of_words</th>\n",
       "      <th>word_length</th>\n",
       "      <th>lemma_length</th>\n",
       "      <th>num_of_sentences</th>\n",
       "      <th>initial_text_length</th>\n",
       "      <th>num_of_lemmas</th>\n",
       "      <th>preprocessed_essay_length</th>\n",
       "      <th>text_shortage</th>\n",
       "    </tr>\n",
       "  </thead>\n",
       "  <tbody>\n",
       "    <tr>\n",
       "      <th>0</th>\n",
       "      <td>16.454545</td>\n",
       "      <td>181</td>\n",
       "      <td>5.508287</td>\n",
       "      <td>6.494505</td>\n",
       "      <td>11</td>\n",
       "      <td>997</td>\n",
       "      <td>91</td>\n",
       "      <td>591</td>\n",
       "      <td>0.592778</td>\n",
       "    </tr>\n",
       "    <tr>\n",
       "      <th>1</th>\n",
       "      <td>11.466667</td>\n",
       "      <td>172</td>\n",
       "      <td>5.476744</td>\n",
       "      <td>6.482353</td>\n",
       "      <td>15</td>\n",
       "      <td>942</td>\n",
       "      <td>85</td>\n",
       "      <td>551</td>\n",
       "      <td>0.584926</td>\n",
       "    </tr>\n",
       "    <tr>\n",
       "      <th>2</th>\n",
       "      <td>15.636364</td>\n",
       "      <td>172</td>\n",
       "      <td>5.302326</td>\n",
       "      <td>6.273810</td>\n",
       "      <td>11</td>\n",
       "      <td>912</td>\n",
       "      <td>84</td>\n",
       "      <td>527</td>\n",
       "      <td>0.577851</td>\n",
       "    </tr>\n",
       "    <tr>\n",
       "      <th>3</th>\n",
       "      <td>33.400000</td>\n",
       "      <td>167</td>\n",
       "      <td>5.449102</td>\n",
       "      <td>6.095745</td>\n",
       "      <td>5</td>\n",
       "      <td>910</td>\n",
       "      <td>94</td>\n",
       "      <td>573</td>\n",
       "      <td>0.629670</td>\n",
       "    </tr>\n",
       "    <tr>\n",
       "      <th>4</th>\n",
       "      <td>30.200000</td>\n",
       "      <td>151</td>\n",
       "      <td>4.788079</td>\n",
       "      <td>5.581081</td>\n",
       "      <td>5</td>\n",
       "      <td>723</td>\n",
       "      <td>74</td>\n",
       "      <td>413</td>\n",
       "      <td>0.571231</td>\n",
       "    </tr>\n",
       "  </tbody>\n",
       "</table>\n",
       "</div>"
      ],
      "text/plain": [
       "   sentence_length  num_of_words  word_length  lemma_length  num_of_sentences  \\\n",
       "0        16.454545           181     5.508287      6.494505                11   \n",
       "1        11.466667           172     5.476744      6.482353                15   \n",
       "2        15.636364           172     5.302326      6.273810                11   \n",
       "3        33.400000           167     5.449102      6.095745                 5   \n",
       "4        30.200000           151     4.788079      5.581081                 5   \n",
       "\n",
       "   initial_text_length  num_of_lemmas  preprocessed_essay_length  \\\n",
       "0                  997             91                        591   \n",
       "1                  942             85                        551   \n",
       "2                  912             84                        527   \n",
       "3                  910             94                        573   \n",
       "4                  723             74                        413   \n",
       "\n",
       "   text_shortage  \n",
       "0       0.592778  \n",
       "1       0.584926  \n",
       "2       0.577851  \n",
       "3       0.629670  \n",
       "4       0.571231  "
      ]
     },
     "execution_count": 39,
     "metadata": {},
     "output_type": "execute_result"
    }
   ],
   "source": [
    "final_df.head()"
   ]
  },
  {
   "cell_type": "code",
   "execution_count": 40,
   "metadata": {},
   "outputs": [],
   "source": [
    "df_complete = pd.concat((preprocessed_text, df_with_more_features, final_df), axis = 1)"
   ]
  },
  {
   "cell_type": "code",
   "execution_count": 41,
   "metadata": {},
   "outputs": [],
   "source": [
    "df_complete_test = pd.concat((preprocessed_text_test, df_with_more_features_test, final_df_test), axis = 1)"
   ]
  },
  {
   "cell_type": "code",
   "execution_count": 42,
   "metadata": {},
   "outputs": [
    {
     "data": {
      "text/html": [
       "<div>\n",
       "<style scoped>\n",
       "    .dataframe tbody tr th:only-of-type {\n",
       "        vertical-align: middle;\n",
       "    }\n",
       "\n",
       "    .dataframe tbody tr th {\n",
       "        vertical-align: top;\n",
       "    }\n",
       "\n",
       "    .dataframe thead th {\n",
       "        text-align: right;\n",
       "    }\n",
       "</style>\n",
       "<table border=\"1\" class=\"dataframe\">\n",
       "  <thead>\n",
       "    <tr style=\"text-align: right;\">\n",
       "      <th></th>\n",
       "      <th>0</th>\n",
       "      <th>num_of_commas</th>\n",
       "      <th>num_of_semicolons</th>\n",
       "      <th>num_of_explamations</th>\n",
       "      <th>num_of_questions</th>\n",
       "      <th>num_of_quotes</th>\n",
       "      <th>num_of_periods</th>\n",
       "      <th>longest_word</th>\n",
       "      <th>sentence_length</th>\n",
       "      <th>num_of_words</th>\n",
       "      <th>word_length</th>\n",
       "      <th>lemma_length</th>\n",
       "      <th>num_of_sentences</th>\n",
       "      <th>initial_text_length</th>\n",
       "      <th>num_of_lemmas</th>\n",
       "      <th>preprocessed_essay_length</th>\n",
       "      <th>text_shortage</th>\n",
       "    </tr>\n",
       "  </thead>\n",
       "  <tbody>\n",
       "    <tr>\n",
       "      <th>0</th>\n",
       "      <td>when the young people returned to the ballroom...</td>\n",
       "      <td>14</td>\n",
       "      <td>0</td>\n",
       "      <td>0</td>\n",
       "      <td>0</td>\n",
       "      <td>0</td>\n",
       "      <td>11</td>\n",
       "      <td>11</td>\n",
       "      <td>16.454545</td>\n",
       "      <td>181</td>\n",
       "      <td>5.508287</td>\n",
       "      <td>6.494505</td>\n",
       "      <td>11</td>\n",
       "      <td>997</td>\n",
       "      <td>91</td>\n",
       "      <td>591</td>\n",
       "      <td>0.592778</td>\n",
       "    </tr>\n",
       "    <tr>\n",
       "      <th>1</th>\n",
       "      <td>all through dinner time mr fayre wa somewhat s...</td>\n",
       "      <td>24</td>\n",
       "      <td>0</td>\n",
       "      <td>5</td>\n",
       "      <td>2</td>\n",
       "      <td>12</td>\n",
       "      <td>10</td>\n",
       "      <td>12</td>\n",
       "      <td>11.466667</td>\n",
       "      <td>172</td>\n",
       "      <td>5.476744</td>\n",
       "      <td>6.482353</td>\n",
       "      <td>15</td>\n",
       "      <td>942</td>\n",
       "      <td>85</td>\n",
       "      <td>551</td>\n",
       "      <td>0.584926</td>\n",
       "    </tr>\n",
       "    <tr>\n",
       "      <th>2</th>\n",
       "      <td>a roger had predicted the snow departed a quic...</td>\n",
       "      <td>17</td>\n",
       "      <td>2</td>\n",
       "      <td>1</td>\n",
       "      <td>0</td>\n",
       "      <td>10</td>\n",
       "      <td>11</td>\n",
       "      <td>14</td>\n",
       "      <td>15.636364</td>\n",
       "      <td>172</td>\n",
       "      <td>5.302326</td>\n",
       "      <td>6.273810</td>\n",
       "      <td>11</td>\n",
       "      <td>912</td>\n",
       "      <td>84</td>\n",
       "      <td>527</td>\n",
       "      <td>0.577851</td>\n",
       "    </tr>\n",
       "    <tr>\n",
       "      <th>3</th>\n",
       "      <td>and outside before the palace a great garden w...</td>\n",
       "      <td>23</td>\n",
       "      <td>2</td>\n",
       "      <td>0</td>\n",
       "      <td>0</td>\n",
       "      <td>0</td>\n",
       "      <td>5</td>\n",
       "      <td>13</td>\n",
       "      <td>33.400000</td>\n",
       "      <td>167</td>\n",
       "      <td>5.449102</td>\n",
       "      <td>6.095745</td>\n",
       "      <td>5</td>\n",
       "      <td>910</td>\n",
       "      <td>94</td>\n",
       "      <td>573</td>\n",
       "      <td>0.629670</td>\n",
       "    </tr>\n",
       "    <tr>\n",
       "      <th>4</th>\n",
       "      <td>once upon a time there were three bear who liv...</td>\n",
       "      <td>13</td>\n",
       "      <td>10</td>\n",
       "      <td>0</td>\n",
       "      <td>0</td>\n",
       "      <td>0</td>\n",
       "      <td>5</td>\n",
       "      <td>12</td>\n",
       "      <td>30.200000</td>\n",
       "      <td>151</td>\n",
       "      <td>4.788079</td>\n",
       "      <td>5.581081</td>\n",
       "      <td>5</td>\n",
       "      <td>723</td>\n",
       "      <td>74</td>\n",
       "      <td>413</td>\n",
       "      <td>0.571231</td>\n",
       "    </tr>\n",
       "  </tbody>\n",
       "</table>\n",
       "</div>"
      ],
      "text/plain": [
       "                                                   0  num_of_commas  \\\n",
       "0  when the young people returned to the ballroom...             14   \n",
       "1  all through dinner time mr fayre wa somewhat s...             24   \n",
       "2  a roger had predicted the snow departed a quic...             17   \n",
       "3  and outside before the palace a great garden w...             23   \n",
       "4  once upon a time there were three bear who liv...             13   \n",
       "\n",
       "   num_of_semicolons  num_of_explamations  num_of_questions  num_of_quotes  \\\n",
       "0                  0                    0                 0              0   \n",
       "1                  0                    5                 2             12   \n",
       "2                  2                    1                 0             10   \n",
       "3                  2                    0                 0              0   \n",
       "4                 10                    0                 0              0   \n",
       "\n",
       "   num_of_periods  longest_word  sentence_length  num_of_words  word_length  \\\n",
       "0              11            11        16.454545           181     5.508287   \n",
       "1              10            12        11.466667           172     5.476744   \n",
       "2              11            14        15.636364           172     5.302326   \n",
       "3               5            13        33.400000           167     5.449102   \n",
       "4               5            12        30.200000           151     4.788079   \n",
       "\n",
       "   lemma_length  num_of_sentences  initial_text_length  num_of_lemmas  \\\n",
       "0      6.494505                11                  997             91   \n",
       "1      6.482353                15                  942             85   \n",
       "2      6.273810                11                  912             84   \n",
       "3      6.095745                 5                  910             94   \n",
       "4      5.581081                 5                  723             74   \n",
       "\n",
       "   preprocessed_essay_length  text_shortage  \n",
       "0                        591       0.592778  \n",
       "1                        551       0.584926  \n",
       "2                        527       0.577851  \n",
       "3                        573       0.629670  \n",
       "4                        413       0.571231  "
      ]
     },
     "execution_count": 42,
     "metadata": {},
     "output_type": "execute_result"
    }
   ],
   "source": [
    "df_complete.head()"
   ]
  },
  {
   "cell_type": "code",
   "execution_count": 34,
   "metadata": {},
   "outputs": [
    {
     "data": {
      "text/html": [
       "<div>\n",
       "<style scoped>\n",
       "    .dataframe tbody tr th:only-of-type {\n",
       "        vertical-align: middle;\n",
       "    }\n",
       "\n",
       "    .dataframe tbody tr th {\n",
       "        vertical-align: top;\n",
       "    }\n",
       "\n",
       "    .dataframe thead th {\n",
       "        text-align: right;\n",
       "    }\n",
       "</style>\n",
       "<table border=\"1\" class=\"dataframe\">\n",
       "  <thead>\n",
       "    <tr style=\"text-align: right;\">\n",
       "      <th></th>\n",
       "      <th>0</th>\n",
       "      <th>num_of_commas</th>\n",
       "      <th>num_of_semicolons</th>\n",
       "      <th>num_of_explamations</th>\n",
       "      <th>num_of_questions</th>\n",
       "      <th>num_of_quotes</th>\n",
       "      <th>num_of_periods</th>\n",
       "      <th>longest_word</th>\n",
       "      <th>sentence_length</th>\n",
       "      <th>num_of_words</th>\n",
       "      <th>word_length</th>\n",
       "      <th>lemma_length</th>\n",
       "      <th>num_of_sentences</th>\n",
       "      <th>initial_text_length</th>\n",
       "      <th>num_of_lemmas</th>\n",
       "      <th>preprocessed_essay_length</th>\n",
       "      <th>text_shortage</th>\n",
       "    </tr>\n",
       "  </thead>\n",
       "  <tbody>\n",
       "    <tr>\n",
       "      <th>0</th>\n",
       "      <td>okay let s get started we can see the eight pe...</td>\n",
       "      <td>268</td>\n",
       "      <td>0</td>\n",
       "      <td>0</td>\n",
       "      <td>0</td>\n",
       "      <td>0</td>\n",
       "      <td>295</td>\n",
       "      <td>15</td>\n",
       "      <td>19.383051</td>\n",
       "      <td>5718</td>\n",
       "      <td>5.482336</td>\n",
       "      <td>7.040509</td>\n",
       "      <td>295</td>\n",
       "      <td>31348</td>\n",
       "      <td>2592</td>\n",
       "      <td>18249</td>\n",
       "      <td>0.582142</td>\n",
       "    </tr>\n",
       "  </tbody>\n",
       "</table>\n",
       "</div>"
      ],
      "text/plain": [
       "                                                   0  num_of_commas  \\\n",
       "0  okay let s get started we can see the eight pe...            268   \n",
       "\n",
       "   num_of_semicolons  num_of_explamations  num_of_questions  num_of_quotes  \\\n",
       "0                  0                    0                 0              0   \n",
       "\n",
       "   num_of_periods  longest_word  sentence_length  num_of_words  word_length  \\\n",
       "0             295            15        19.383051          5718     5.482336   \n",
       "\n",
       "   lemma_length  num_of_sentences  initial_text_length  num_of_lemmas  \\\n",
       "0      7.040509               295                31348           2592   \n",
       "\n",
       "   preprocessed_essay_length  text_shortage  \n",
       "0                      18249       0.582142  "
      ]
     },
     "execution_count": 34,
     "metadata": {},
     "output_type": "execute_result"
    }
   ],
   "source": [
    "df_complete_test.head()"
   ]
  },
  {
   "cell_type": "code",
   "execution_count": 43,
   "metadata": {},
   "outputs": [
    {
     "data": {
      "text/plain": [
       "0    when the young people returned to the ballroom...\n",
       "1    all through dinner time mr fayre wa somewhat s...\n",
       "2    a roger had predicted the snow departed a quic...\n",
       "3    and outside before the palace a great garden w...\n",
       "4    once upon a time there were three bear who liv...\n",
       "dtype: object"
      ]
     },
     "execution_count": 43,
     "metadata": {},
     "output_type": "execute_result"
    }
   ],
   "source": [
    "preprocessed_text.head()"
   ]
  },
  {
   "cell_type": "code",
   "execution_count": 44,
   "metadata": {},
   "outputs": [],
   "source": [
    "vectorizer = TfidfVectorizer()\n",
    "array_output_values = vectorizer.fit_transform(preprocessed_text)"
   ]
  },
  {
   "cell_type": "code",
   "execution_count": 45,
   "metadata": {},
   "outputs": [],
   "source": [
    "from tensorflow.keras.layers import Dense, Dropout\n",
    "from tensorflow.keras.models import Sequential"
   ]
  },
  {
   "cell_type": "code",
   "execution_count": 46,
   "metadata": {},
   "outputs": [],
   "source": [
    "vectorizer = TfidfVectorizer()\n",
    "vectorizer.fit(df_train['excerpt'])\n",
    "df_train_converted = vectorizer.transform(df_train['excerpt'])"
   ]
  },
  {
   "cell_type": "code",
   "execution_count": 47,
   "metadata": {},
   "outputs": [
    {
     "data": {
      "text/plain": [
       "<2834x26833 sparse matrix of type '<class 'numpy.float64'>'\n",
       "\twith 294295 stored elements in Compressed Sparse Row format>"
      ]
     },
     "execution_count": 47,
     "metadata": {},
     "output_type": "execute_result"
    }
   ],
   "source": [
    "df_train_converted"
   ]
  },
  {
   "cell_type": "code",
   "execution_count": 48,
   "metadata": {},
   "outputs": [
    {
     "data": {
      "text/plain": [
       "<2834x26833 sparse matrix of type '<class 'numpy.float64'>'\n",
       "\twith 294295 stored elements in Compressed Sparse Row format>"
      ]
     },
     "execution_count": 48,
     "metadata": {},
     "output_type": "execute_result"
    }
   ],
   "source": [
    "df_train_converted"
   ]
  },
  {
   "cell_type": "code",
   "execution_count": 67,
   "metadata": {},
   "outputs": [
    {
     "data": {
      "text/html": [
       "<div>\n",
       "<style scoped>\n",
       "    .dataframe tbody tr th:only-of-type {\n",
       "        vertical-align: middle;\n",
       "    }\n",
       "\n",
       "    .dataframe tbody tr th {\n",
       "        vertical-align: top;\n",
       "    }\n",
       "\n",
       "    .dataframe thead th {\n",
       "        text-align: right;\n",
       "    }\n",
       "</style>\n",
       "<table border=\"1\" class=\"dataframe\">\n",
       "  <thead>\n",
       "    <tr style=\"text-align: right;\">\n",
       "      <th></th>\n",
       "      <th>0</th>\n",
       "      <th>num_of_commas</th>\n",
       "      <th>num_of_semicolons</th>\n",
       "      <th>num_of_explamations</th>\n",
       "      <th>num_of_questions</th>\n",
       "      <th>num_of_quotes</th>\n",
       "      <th>num_of_periods</th>\n",
       "      <th>longest_word</th>\n",
       "      <th>sentence_length</th>\n",
       "      <th>num_of_words</th>\n",
       "      <th>word_length</th>\n",
       "      <th>lemma_length</th>\n",
       "      <th>num_of_sentences</th>\n",
       "      <th>initial_text_length</th>\n",
       "      <th>num_of_lemmas</th>\n",
       "      <th>preprocessed_essay_length</th>\n",
       "      <th>text_shortage</th>\n",
       "    </tr>\n",
       "  </thead>\n",
       "  <tbody>\n",
       "    <tr>\n",
       "      <th>0</th>\n",
       "      <td>when the young people returned to the ballroom...</td>\n",
       "      <td>14</td>\n",
       "      <td>0</td>\n",
       "      <td>0</td>\n",
       "      <td>0</td>\n",
       "      <td>0</td>\n",
       "      <td>11</td>\n",
       "      <td>15</td>\n",
       "      <td>16.454545</td>\n",
       "      <td>181</td>\n",
       "      <td>5.508287</td>\n",
       "      <td>6.494505</td>\n",
       "      <td>11</td>\n",
       "      <td>997</td>\n",
       "      <td>91</td>\n",
       "      <td>591</td>\n",
       "      <td>0.592778</td>\n",
       "    </tr>\n",
       "    <tr>\n",
       "      <th>1</th>\n",
       "      <td>all through dinner time mr fayre wa somewhat s...</td>\n",
       "      <td>24</td>\n",
       "      <td>0</td>\n",
       "      <td>5</td>\n",
       "      <td>2</td>\n",
       "      <td>12</td>\n",
       "      <td>10</td>\n",
       "      <td>16</td>\n",
       "      <td>11.466667</td>\n",
       "      <td>172</td>\n",
       "      <td>5.476744</td>\n",
       "      <td>6.482353</td>\n",
       "      <td>15</td>\n",
       "      <td>942</td>\n",
       "      <td>85</td>\n",
       "      <td>551</td>\n",
       "      <td>0.584926</td>\n",
       "    </tr>\n",
       "    <tr>\n",
       "      <th>2</th>\n",
       "      <td>a roger had predicted the snow departed a quic...</td>\n",
       "      <td>17</td>\n",
       "      <td>2</td>\n",
       "      <td>1</td>\n",
       "      <td>0</td>\n",
       "      <td>10</td>\n",
       "      <td>11</td>\n",
       "      <td>14</td>\n",
       "      <td>15.636364</td>\n",
       "      <td>172</td>\n",
       "      <td>5.302326</td>\n",
       "      <td>6.273810</td>\n",
       "      <td>11</td>\n",
       "      <td>912</td>\n",
       "      <td>84</td>\n",
       "      <td>527</td>\n",
       "      <td>0.577851</td>\n",
       "    </tr>\n",
       "    <tr>\n",
       "      <th>3</th>\n",
       "      <td>and outside before the palace a great garden w...</td>\n",
       "      <td>23</td>\n",
       "      <td>2</td>\n",
       "      <td>0</td>\n",
       "      <td>0</td>\n",
       "      <td>0</td>\n",
       "      <td>5</td>\n",
       "      <td>13</td>\n",
       "      <td>33.400000</td>\n",
       "      <td>167</td>\n",
       "      <td>5.449102</td>\n",
       "      <td>6.095745</td>\n",
       "      <td>5</td>\n",
       "      <td>910</td>\n",
       "      <td>94</td>\n",
       "      <td>573</td>\n",
       "      <td>0.629670</td>\n",
       "    </tr>\n",
       "    <tr>\n",
       "      <th>4</th>\n",
       "      <td>once upon a time there were three bear who liv...</td>\n",
       "      <td>13</td>\n",
       "      <td>10</td>\n",
       "      <td>0</td>\n",
       "      <td>0</td>\n",
       "      <td>0</td>\n",
       "      <td>5</td>\n",
       "      <td>12</td>\n",
       "      <td>30.200000</td>\n",
       "      <td>151</td>\n",
       "      <td>4.788079</td>\n",
       "      <td>5.581081</td>\n",
       "      <td>5</td>\n",
       "      <td>723</td>\n",
       "      <td>74</td>\n",
       "      <td>413</td>\n",
       "      <td>0.571231</td>\n",
       "    </tr>\n",
       "  </tbody>\n",
       "</table>\n",
       "</div>"
      ],
      "text/plain": [
       "                                                   0  num_of_commas  \\\n",
       "0  when the young people returned to the ballroom...             14   \n",
       "1  all through dinner time mr fayre wa somewhat s...             24   \n",
       "2  a roger had predicted the snow departed a quic...             17   \n",
       "3  and outside before the palace a great garden w...             23   \n",
       "4  once upon a time there were three bear who liv...             13   \n",
       "\n",
       "   num_of_semicolons  num_of_explamations  num_of_questions  num_of_quotes  \\\n",
       "0                  0                    0                 0              0   \n",
       "1                  0                    5                 2             12   \n",
       "2                  2                    1                 0             10   \n",
       "3                  2                    0                 0              0   \n",
       "4                 10                    0                 0              0   \n",
       "\n",
       "   num_of_periods  longest_word  sentence_length  num_of_words  word_length  \\\n",
       "0              11            15        16.454545           181     5.508287   \n",
       "1              10            16        11.466667           172     5.476744   \n",
       "2              11            14        15.636364           172     5.302326   \n",
       "3               5            13        33.400000           167     5.449102   \n",
       "4               5            12        30.200000           151     4.788079   \n",
       "\n",
       "   lemma_length  num_of_sentences  initial_text_length  num_of_lemmas  \\\n",
       "0      6.494505                11                  997             91   \n",
       "1      6.482353                15                  942             85   \n",
       "2      6.273810                11                  912             84   \n",
       "3      6.095745                 5                  910             94   \n",
       "4      5.581081                 5                  723             74   \n",
       "\n",
       "   preprocessed_essay_length  text_shortage  \n",
       "0                        591       0.592778  \n",
       "1                        551       0.584926  \n",
       "2                        527       0.577851  \n",
       "3                        573       0.629670  \n",
       "4                        413       0.571231  "
      ]
     },
     "execution_count": 67,
     "metadata": {},
     "output_type": "execute_result"
    }
   ],
   "source": [
    "df_complete.head()"
   ]
  },
  {
   "cell_type": "code",
   "execution_count": 41,
   "metadata": {},
   "outputs": [
    {
     "data": {
      "text/html": [
       "<div>\n",
       "<style scoped>\n",
       "    .dataframe tbody tr th:only-of-type {\n",
       "        vertical-align: middle;\n",
       "    }\n",
       "\n",
       "    .dataframe tbody tr th {\n",
       "        vertical-align: top;\n",
       "    }\n",
       "\n",
       "    .dataframe thead th {\n",
       "        text-align: right;\n",
       "    }\n",
       "</style>\n",
       "<table border=\"1\" class=\"dataframe\">\n",
       "  <thead>\n",
       "    <tr style=\"text-align: right;\">\n",
       "      <th></th>\n",
       "      <th>0</th>\n",
       "      <th>num_of_commas</th>\n",
       "      <th>num_of_semicolons</th>\n",
       "      <th>num_of_explamations</th>\n",
       "      <th>num_of_questions</th>\n",
       "      <th>num_of_quotes</th>\n",
       "      <th>num_of_periods</th>\n",
       "      <th>longest_word</th>\n",
       "      <th>sentence_length</th>\n",
       "      <th>num_of_words</th>\n",
       "      <th>word_length</th>\n",
       "      <th>lemma_length</th>\n",
       "      <th>num_of_sentences</th>\n",
       "      <th>initial_text_length</th>\n",
       "      <th>num_of_lemmas</th>\n",
       "      <th>preprocessed_essay_length</th>\n",
       "      <th>text_shortage</th>\n",
       "    </tr>\n",
       "  </thead>\n",
       "  <tbody>\n",
       "    <tr>\n",
       "      <th>0</th>\n",
       "      <td>okay let s get started we can see the eight pe...</td>\n",
       "      <td>268</td>\n",
       "      <td>0</td>\n",
       "      <td>0</td>\n",
       "      <td>0</td>\n",
       "      <td>0</td>\n",
       "      <td>295</td>\n",
       "      <td>15</td>\n",
       "      <td>19.383051</td>\n",
       "      <td>5718</td>\n",
       "      <td>5.482336</td>\n",
       "      <td>7.040509</td>\n",
       "      <td>295</td>\n",
       "      <td>31348</td>\n",
       "      <td>2592</td>\n",
       "      <td>18249</td>\n",
       "      <td>0.582142</td>\n",
       "    </tr>\n",
       "  </tbody>\n",
       "</table>\n",
       "</div>"
      ],
      "text/plain": [
       "                                                   0  num_of_commas  \\\n",
       "0  okay let s get started we can see the eight pe...            268   \n",
       "\n",
       "   num_of_semicolons  num_of_explamations  num_of_questions  num_of_quotes  \\\n",
       "0                  0                    0                 0              0   \n",
       "\n",
       "   num_of_periods  longest_word  sentence_length  num_of_words  word_length  \\\n",
       "0             295            15        19.383051          5718     5.482336   \n",
       "\n",
       "   lemma_length  num_of_sentences  initial_text_length  num_of_lemmas  \\\n",
       "0      7.040509               295                31348           2592   \n",
       "\n",
       "   preprocessed_essay_length  text_shortage  \n",
       "0                      18249       0.582142  "
      ]
     },
     "execution_count": 41,
     "metadata": {},
     "output_type": "execute_result"
    }
   ],
   "source": [
    "df_complete_test.head()"
   ]
  },
  {
   "cell_type": "code",
   "execution_count": 49,
   "metadata": {},
   "outputs": [],
   "source": [
    "df_complete_important_features = df_complete.iloc[:, 1:]\n",
    "df_complete_important_features_test = df_complete_test.iloc[:, 1:]"
   ]
  },
  {
   "cell_type": "code",
   "execution_count": 44,
   "metadata": {},
   "outputs": [
    {
     "data": {
      "text/html": [
       "<div>\n",
       "<style scoped>\n",
       "    .dataframe tbody tr th:only-of-type {\n",
       "        vertical-align: middle;\n",
       "    }\n",
       "\n",
       "    .dataframe tbody tr th {\n",
       "        vertical-align: top;\n",
       "    }\n",
       "\n",
       "    .dataframe thead th {\n",
       "        text-align: right;\n",
       "    }\n",
       "</style>\n",
       "<table border=\"1\" class=\"dataframe\">\n",
       "  <thead>\n",
       "    <tr style=\"text-align: right;\">\n",
       "      <th></th>\n",
       "      <th>num_of_commas</th>\n",
       "      <th>num_of_semicolons</th>\n",
       "      <th>num_of_explamations</th>\n",
       "      <th>num_of_questions</th>\n",
       "      <th>num_of_quotes</th>\n",
       "      <th>num_of_periods</th>\n",
       "      <th>longest_word</th>\n",
       "      <th>sentence_length</th>\n",
       "      <th>num_of_words</th>\n",
       "      <th>word_length</th>\n",
       "      <th>lemma_length</th>\n",
       "      <th>num_of_sentences</th>\n",
       "      <th>initial_text_length</th>\n",
       "      <th>num_of_lemmas</th>\n",
       "      <th>preprocessed_essay_length</th>\n",
       "      <th>text_shortage</th>\n",
       "    </tr>\n",
       "  </thead>\n",
       "  <tbody>\n",
       "    <tr>\n",
       "      <th>0</th>\n",
       "      <td>14</td>\n",
       "      <td>0</td>\n",
       "      <td>0</td>\n",
       "      <td>0</td>\n",
       "      <td>0</td>\n",
       "      <td>11</td>\n",
       "      <td>11</td>\n",
       "      <td>16.454545</td>\n",
       "      <td>181</td>\n",
       "      <td>5.508287</td>\n",
       "      <td>6.494505</td>\n",
       "      <td>11</td>\n",
       "      <td>997</td>\n",
       "      <td>91</td>\n",
       "      <td>591</td>\n",
       "      <td>0.592778</td>\n",
       "    </tr>\n",
       "    <tr>\n",
       "      <th>1</th>\n",
       "      <td>24</td>\n",
       "      <td>0</td>\n",
       "      <td>5</td>\n",
       "      <td>2</td>\n",
       "      <td>12</td>\n",
       "      <td>10</td>\n",
       "      <td>12</td>\n",
       "      <td>11.466667</td>\n",
       "      <td>172</td>\n",
       "      <td>5.476744</td>\n",
       "      <td>6.482353</td>\n",
       "      <td>15</td>\n",
       "      <td>942</td>\n",
       "      <td>85</td>\n",
       "      <td>551</td>\n",
       "      <td>0.584926</td>\n",
       "    </tr>\n",
       "    <tr>\n",
       "      <th>2</th>\n",
       "      <td>17</td>\n",
       "      <td>2</td>\n",
       "      <td>1</td>\n",
       "      <td>0</td>\n",
       "      <td>10</td>\n",
       "      <td>11</td>\n",
       "      <td>14</td>\n",
       "      <td>15.636364</td>\n",
       "      <td>172</td>\n",
       "      <td>5.302326</td>\n",
       "      <td>6.273810</td>\n",
       "      <td>11</td>\n",
       "      <td>912</td>\n",
       "      <td>84</td>\n",
       "      <td>527</td>\n",
       "      <td>0.577851</td>\n",
       "    </tr>\n",
       "    <tr>\n",
       "      <th>3</th>\n",
       "      <td>23</td>\n",
       "      <td>2</td>\n",
       "      <td>0</td>\n",
       "      <td>0</td>\n",
       "      <td>0</td>\n",
       "      <td>5</td>\n",
       "      <td>13</td>\n",
       "      <td>33.400000</td>\n",
       "      <td>167</td>\n",
       "      <td>5.449102</td>\n",
       "      <td>6.095745</td>\n",
       "      <td>5</td>\n",
       "      <td>910</td>\n",
       "      <td>94</td>\n",
       "      <td>573</td>\n",
       "      <td>0.629670</td>\n",
       "    </tr>\n",
       "    <tr>\n",
       "      <th>4</th>\n",
       "      <td>13</td>\n",
       "      <td>10</td>\n",
       "      <td>0</td>\n",
       "      <td>0</td>\n",
       "      <td>0</td>\n",
       "      <td>5</td>\n",
       "      <td>12</td>\n",
       "      <td>30.200000</td>\n",
       "      <td>151</td>\n",
       "      <td>4.788079</td>\n",
       "      <td>5.581081</td>\n",
       "      <td>5</td>\n",
       "      <td>723</td>\n",
       "      <td>74</td>\n",
       "      <td>413</td>\n",
       "      <td>0.571231</td>\n",
       "    </tr>\n",
       "  </tbody>\n",
       "</table>\n",
       "</div>"
      ],
      "text/plain": [
       "   num_of_commas  num_of_semicolons  num_of_explamations  num_of_questions  \\\n",
       "0             14                  0                    0                 0   \n",
       "1             24                  0                    5                 2   \n",
       "2             17                  2                    1                 0   \n",
       "3             23                  2                    0                 0   \n",
       "4             13                 10                    0                 0   \n",
       "\n",
       "   num_of_quotes  num_of_periods  longest_word  sentence_length  num_of_words  \\\n",
       "0              0              11            11        16.454545           181   \n",
       "1             12              10            12        11.466667           172   \n",
       "2             10              11            14        15.636364           172   \n",
       "3              0               5            13        33.400000           167   \n",
       "4              0               5            12        30.200000           151   \n",
       "\n",
       "   word_length  lemma_length  num_of_sentences  initial_text_length  \\\n",
       "0     5.508287      6.494505                11                  997   \n",
       "1     5.476744      6.482353                15                  942   \n",
       "2     5.302326      6.273810                11                  912   \n",
       "3     5.449102      6.095745                 5                  910   \n",
       "4     4.788079      5.581081                 5                  723   \n",
       "\n",
       "   num_of_lemmas  preprocessed_essay_length  text_shortage  \n",
       "0             91                        591       0.592778  \n",
       "1             85                        551       0.584926  \n",
       "2             84                        527       0.577851  \n",
       "3             94                        573       0.629670  \n",
       "4             74                        413       0.571231  "
      ]
     },
     "execution_count": 44,
     "metadata": {},
     "output_type": "execute_result"
    }
   ],
   "source": [
    "df_complete_important_features.head()"
   ]
  },
  {
   "cell_type": "code",
   "execution_count": 50,
   "metadata": {},
   "outputs": [],
   "source": [
    "from sklearn.preprocessing import MinMaxScaler"
   ]
  },
  {
   "cell_type": "code",
   "execution_count": 51,
   "metadata": {},
   "outputs": [],
   "source": [
    "def min_max_scaler(df_train, df_test):\n",
    "    \"\"\"\n",
    "    This function performs the scaling operation by taking into account the train and test set respectively. It is going to \n",
    "    convert the values that are present in the data to lie between 0 and 1 respectively.\n",
    "    \"\"\"\n",
    "    scaler = MinMaxScaler()\n",
    "    scaler.fit(df_train)\n",
    "    df_scaled = scaler.transform(df_train)\n",
    "    df_scaled_test = scaler.transform(df_test)\n",
    "    return df_scaled, df_scaled_test"
   ]
  },
  {
   "cell_type": "code",
   "execution_count": 52,
   "metadata": {},
   "outputs": [],
   "source": [
    "def Tfidf_Vectorizer(df_train, df_test):\n",
    "    \"\"\"\n",
    "    This function would take the training data and the test data and convert those values which would be in the form of text \n",
    "    to tfidf values that could be later used for machine learning analysis.\n",
    "    \"\"\"\n",
    "    vectorizer = TfidfVectorizer()\n",
    "    df_vectorized_train = vectorizer.fit_transform(df_train)\n",
    "    df_vectorized_test = vectorizer.transform(df_test)\n",
    "    return df_vectorized_train, df_vectorized_test"
   ]
  },
  {
   "cell_type": "code",
   "execution_count": 53,
   "metadata": {},
   "outputs": [],
   "source": [
    "def Count_Vectorizer(df_train, df_test):\n",
    "    \"\"\"\n",
    "    This function would take the training data and the test data and convert those values which would be in the form of text to \n",
    "    bag of words representation or count vectorized values which are later used for machine learning prediction.\n",
    "    \"\"\"\n",
    "    vectorizer = CountVectorizer()\n",
    "    df_vectorized_train = vectorizer.fit_transform(df_train)\n",
    "    df_vectorized_test = vectorizer.transform(df_test)\n",
    "    return df_vectorized_train, df_vectorized_test"
   ]
  },
  {
   "cell_type": "code",
   "execution_count": 54,
   "metadata": {},
   "outputs": [
    {
     "data": {
      "text/html": [
       "<div>\n",
       "<style scoped>\n",
       "    .dataframe tbody tr th:only-of-type {\n",
       "        vertical-align: middle;\n",
       "    }\n",
       "\n",
       "    .dataframe tbody tr th {\n",
       "        vertical-align: top;\n",
       "    }\n",
       "\n",
       "    .dataframe thead th {\n",
       "        text-align: right;\n",
       "    }\n",
       "</style>\n",
       "<table border=\"1\" class=\"dataframe\">\n",
       "  <thead>\n",
       "    <tr style=\"text-align: right;\">\n",
       "      <th></th>\n",
       "      <th>num_of_commas</th>\n",
       "      <th>num_of_semicolons</th>\n",
       "      <th>num_of_explamations</th>\n",
       "      <th>num_of_questions</th>\n",
       "      <th>num_of_quotes</th>\n",
       "      <th>num_of_periods</th>\n",
       "      <th>longest_word</th>\n",
       "      <th>sentence_length</th>\n",
       "      <th>num_of_words</th>\n",
       "      <th>word_length</th>\n",
       "      <th>lemma_length</th>\n",
       "      <th>num_of_sentences</th>\n",
       "      <th>initial_text_length</th>\n",
       "      <th>num_of_lemmas</th>\n",
       "      <th>preprocessed_essay_length</th>\n",
       "      <th>text_shortage</th>\n",
       "    </tr>\n",
       "  </thead>\n",
       "  <tbody>\n",
       "    <tr>\n",
       "      <th>0</th>\n",
       "      <td>16</td>\n",
       "      <td>0</td>\n",
       "      <td>0</td>\n",
       "      <td>0</td>\n",
       "      <td>0</td>\n",
       "      <td>9</td>\n",
       "      <td>11</td>\n",
       "      <td>29.9</td>\n",
       "      <td>299</td>\n",
       "      <td>5.013378</td>\n",
       "      <td>6.465517</td>\n",
       "      <td>10</td>\n",
       "      <td>1499</td>\n",
       "      <td>116</td>\n",
       "      <td>750</td>\n",
       "      <td>0.500334</td>\n",
       "    </tr>\n",
       "  </tbody>\n",
       "</table>\n",
       "</div>"
      ],
      "text/plain": [
       "   num_of_commas  num_of_semicolons  num_of_explamations  num_of_questions  \\\n",
       "0             16                  0                    0                 0   \n",
       "\n",
       "   num_of_quotes  num_of_periods  longest_word  sentence_length  num_of_words  \\\n",
       "0              0               9            11             29.9           299   \n",
       "\n",
       "   word_length  lemma_length  num_of_sentences  initial_text_length  \\\n",
       "0     5.013378      6.465517                10                 1499   \n",
       "\n",
       "   num_of_lemmas  preprocessed_essay_length  text_shortage  \n",
       "0            116                        750       0.500334  "
      ]
     },
     "execution_count": 54,
     "metadata": {},
     "output_type": "execute_result"
    }
   ],
   "source": [
    "df_complete_important_features\n",
    "df_complete_important_features_test\n"
   ]
  },
  {
   "cell_type": "code",
   "execution_count": 55,
   "metadata": {},
   "outputs": [
    {
     "data": {
      "text/plain": [
       "<2834x26833 sparse matrix of type '<class 'numpy.float64'>'\n",
       "\twith 294295 stored elements in Compressed Sparse Row format>"
      ]
     },
     "execution_count": 55,
     "metadata": {},
     "output_type": "execute_result"
    }
   ],
   "source": [
    "df_train_converted"
   ]
  },
  {
   "cell_type": "code",
   "execution_count": 56,
   "metadata": {},
   "outputs": [],
   "source": [
    "df_scaled, df_scaled_test = min_max_scaler(df_complete_important_features, df_complete_important_features_test)"
   ]
  },
  {
   "cell_type": "code",
   "execution_count": 57,
   "metadata": {},
   "outputs": [],
   "source": [
    "def Vectorizer_decision(df_train, df_test):\n",
    "    print(\"Please enter the vectorizer that you would like to use for your data\")\n",
    "    print(\"Please select from the following options\")\n",
    "    print(\"1. Count Vectorizer\")\n",
    "    print(\"2. Tfidf Vectorizer\")\n",
    "    choice = int(input(\"Enter 1 or 2:\"))\n",
    "    type(choice)\n",
    "    if choice != 1 and choice != 2:\n",
    "        choice = input(\"Please select only from the listed options\")\n",
    "        vectorized_train = 0\n",
    "        vectorized_test = 0\n",
    "    elif choice == 1:\n",
    "        print(\"Count Vectorizer Selected\")\n",
    "        vectorized_train, vectorized_test = Count_Vectorizer(df_train.iloc[:, 0], df_test.iloc[:, 0])\n",
    "    else:\n",
    "        print(\"Tfidf Vectorizer Selected\")\n",
    "        vectorized_train, vectorized_test = Tfidf_Vectorizer(df_train.iloc[:, 0], df_test.iloc[:, 0])\n",
    "    return vectorized_train, vectorized_test"
   ]
  },
  {
   "cell_type": "code",
   "execution_count": 58,
   "metadata": {},
   "outputs": [
    {
     "name": "stdout",
     "output_type": "stream",
     "text": [
      "Please enter the vectorizer that you would like to use for your data\n",
      "Please select from the following options\n",
      "1. Count Vectorizer\n",
      "2. Tfidf Vectorizer\n"
     ]
    }
   ],
   "source": [
    "df_vectorized, df_vectorized_test = Vectorizer_decision(df_complete.copy(), df_complete_test.copy())"
   ]
  },
  {
   "cell_type": "code",
   "execution_count": 1,
   "metadata": {},
   "outputs": [
    {
     "ename": "NameError",
     "evalue": "name 'df_vectorized' is not defined",
     "output_type": "error",
     "traceback": [
      "\u001b[1;31m---------------------------------------------------------------------------\u001b[0m",
      "\u001b[1;31mNameError\u001b[0m                                 Traceback (most recent call last)",
      "\u001b[1;32md:\\Inclass\\C_I\\Hackthon\\code\\Predict.ipynb Cell 57\u001b[0m line \u001b[0;36m1\n\u001b[1;32m----> <a href='vscode-notebook-cell:/d%3A/Inclass/C_I/Hackthon/code/Predict.ipynb#Y115sZmlsZQ%3D%3D?line=0'>1</a>\u001b[0m df_vectorized \u001b[39m=\u001b[39m df_vectorized\u001b[39m.\u001b[39mtoarray()\n\u001b[0;32m      <a href='vscode-notebook-cell:/d%3A/Inclass/C_I/Hackthon/code/Predict.ipynb#Y115sZmlsZQ%3D%3D?line=1'>2</a>\u001b[0m df_vectorized_test \u001b[39m=\u001b[39m df_vectorized_test\u001b[39m.\u001b[39mtoarray()\n",
      "\u001b[1;31mNameError\u001b[0m: name 'df_vectorized' is not defined"
     ]
    }
   ],
   "source": [
    "df_vectorized = df_vectorized.toarray()\n",
    "df_vectorized_test = df_vectorized_test.toarray()"
   ]
  },
  {
   "cell_type": "code",
   "execution_count": null,
   "metadata": {},
   "outputs": [],
   "source": [
    "X = np.concatenate((df_vectorized, df_scaled), axis = 1)\n",
    "X_test = np.concatenate((df_vectorized_test, df_scaled_test), axis = 1)\n",
    "y = df_train['target'].values"
   ]
  },
  {
   "cell_type": "code",
   "execution_count": null,
   "metadata": {},
   "outputs": [],
   "source": [
    "X_train, X_cv, y_train, y_cv = train_test_split(X, y, test_size = 0.3, random_state = 50)"
   ]
  },
  {
   "cell_type": "markdown",
   "metadata": {},
   "source": [
    "## gradient boosting decision tree for the prediction of the difficulty of the text respectively"
   ]
  },
  {
   "cell_type": "code",
   "execution_count": null,
   "metadata": {},
   "outputs": [],
   "source": [
    "from sklearn.ensemble import GradientBoostingRegressor"
   ]
  },
  {
   "cell_type": "code",
   "execution_count": null,
   "metadata": {},
   "outputs": [],
   "source": [
    "model = GradientBoostingRegressor()\n",
    "model.fit(X_train, y_train)\n",
    "y_predict = model.predict(X_cv)"
   ]
  },
  {
   "cell_type": "code",
   "execution_count": null,
   "metadata": {},
   "outputs": [],
   "source": [
    "print(\"The mean squared error of Gradient Boosting Regressor for cross-validation data is {}\".format(mean_squared_error(y_predict, y_cv)))\n",
    "print(\"The mean absolute error of Gradient Boosting Regressor for cross-validation data is {}\".format(mean_absolute_error(y_predict, y_cv)))"
   ]
  },
  {
   "cell_type": "code",
   "execution_count": null,
   "metadata": {},
   "outputs": [],
   "source": [
    "first_dataframe = pd.DataFrame(pd.Series(y_cv), columns = ['y_actual'])\n",
    "second_dataframe = pd.DataFrame(pd.Series(y_predict), columns = ['y_predictions'])\n",
    "final_dataframe = pd.concat((first_dataframe, second_dataframe), axis = 1)"
   ]
  },
  {
   "cell_type": "code",
   "execution_count": null,
   "metadata": {},
   "outputs": [],
   "source": [
    "final_dataframe.head()"
   ]
  },
  {
   "cell_type": "code",
   "execution_count": null,
   "metadata": {},
   "outputs": [],
   "source": [
    "regression_plot_function(final_dataframe, color = 'maroon')"
   ]
  },
  {
   "cell_type": "code",
   "execution_count": null,
   "metadata": {},
   "outputs": [],
   "source": []
  }
 ],
 "metadata": {
  "kernelspec": {
   "display_name": "base",
   "language": "python",
   "name": "python3"
  },
  "language_info": {
   "codemirror_mode": {
    "name": "ipython",
    "version": 3
   },
   "file_extension": ".py",
   "mimetype": "text/x-python",
   "name": "python",
   "nbconvert_exporter": "python",
   "pygments_lexer": "ipython3",
   "version": "3.10.9"
  },
  "orig_nbformat": 4
 },
 "nbformat": 4,
 "nbformat_minor": 2
}
